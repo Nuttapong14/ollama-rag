{
 "cells": [
  {
   "cell_type": "code",
   "execution_count": 9,
   "id": "02dae605-8d87-4dca-8502-7d42d69d83b7",
   "metadata": {},
   "outputs": [
    {
     "data": {
      "text/plain": [
       "'Mark Zuckerberg is an American technology entrepreneur and philanthropist. He is best known for co-founding and leading the social media platform Facebook, as well as its subsequent acquisition of Instagram and WhatsApp.\\n\\nBorn on May 14, 1984, in White Plains, New York, Zuckerberg developed an interest in computers at a young age. He attended Phillips Exeter Academy and later enrolled at Harvard University, where he studied computer science and psychology.\\n\\nIn 2004, while still a sophomore at Harvard, Zuckerberg launched \"Facemash,\" a website that allowed users to compare the photos of two students and vote on which one was more attractive. The site became popular, but also generated controversy and was eventually shut down by the university.\\n\\nLater that year, Zuckerberg launched \"Thefacebook\" from his college dorm room, initially targeting Harvard students. The platform quickly gained popularity, and it expanded to other colleges and universities before opening up to the general public in 2006.\\n\\nIn 2012, Facebook acquired Instagram for $1 billion, and in 2014, it acquired WhatsApp for another $19 billion. Today, Facebook is one of the largest technology companies in the world, with over 2.7 billion monthly active users.\\n\\nZuckerberg has also been a vocal advocate for tech regulation, data privacy, and online safety. He has testified before Congress on several occasions to discuss these issues and has advocated for stronger regulations on social media platforms.\\n\\nIn addition to his work at Facebook, Zuckerberg has also made significant investments in other companies and initiatives, such as the Breakthrough Prize Foundation, which recognizes scientists and engineers making significant contributions to medicine and technology.\\n\\nSome of Zuckerberg\\'s notable achievements include:\\n\\n* Youngest billionaire in the world (2010)\\n* One of the most powerful people in the world (according to Time magazine)\\n* Received numerous awards for his philanthropic work, including the Presidential Medal of Freedom\\n* Graduated from Harvard University with a degree in computer science and psychology\\n\\nHowever, Zuckerberg has also faced criticism for Facebook\\'s handling of user data, its role in spreading misinformation, and its impact on society. He has acknowledged these criticisms and has taken steps to address them.\\n\\nOverall, Mark Zuckerberg is a highly influential figure in the world of technology and social media, with a significant impact on the way we communicate and interact with each other online.'"
      ]
     },
     "execution_count": 9,
     "metadata": {},
     "output_type": "execute_result"
    }
   ],
   "source": [
    "import ollama\n",
    "\n",
    "prompt = \"Who is mark zuckerberg?\"\n",
    "\n",
    "respone = ollama.chat(model=\"llama3.2\", messages=[\n",
    "    {\"role\": \"system\", \"content\": \"You are a helpful assistant.\"},\n",
    "    {\"role\": \"user\", \"content\": prompt}\n",
    "])\n",
    "\n",
    "respone['message']['content']"
   ]
  },
  {
   "cell_type": "code",
   "execution_count": 5,
   "id": "dba35fce-d611-43b8-b827-6cf31a1128ae",
   "metadata": {},
   "outputs": [],
   "source": [
    "import psycopg2\n",
    "\n",
    "conn = psycopg2.connect(\n",
    "    dbname=\"mydb\",\n",
    "    user=\"admin\",\n",
    "    password=\"1234\",\n",
    "    host=\"localhost\",\n",
    "    port=\"5433\" # Adjust the port if necessary\n",
    ")\n",
    "\n",
    "cur = conn.cursor()\n",
    "cur.execute(\"\"\"\n",
    "    CREATE TABLE IF NOT EXISTS documents (\n",
    "        id SERIAL PRIMARY KEY,\n",
    "        content TEXT NOT NULL,\n",
    "        embedding vector(1024)\n",
    "    )\n",
    "\"\"\")\n",
    "conn.commit()\n",
    "cur.close()\n",
    "conn.close()"
   ]
  },
  {
   "cell_type": "code",
   "execution_count": 14,
   "id": "a7f53028",
   "metadata": {},
   "outputs": [],
   "source": [
    "from sentence_transformers import SentenceTransformer\n",
    "\n",
    "conn = psycopg2.connect(\n",
    "    dbname=\"mydb\",\n",
    "    user=\"admin\",\n",
    "    password=\"1234\",\n",
    "    host=\"localhost\",\n",
    "    port=\"5433\" # Adjust the port if necessary\n",
    ")\n",
    "cur = conn.cursor()\n",
    "\n",
    "embedder = SentenceTransformer('BAAI/bge-m3', device='cpu')\n",
    "\n",
    "def add_document(text):\n",
    "    embedding = embedder.encode(text).tolist()\n",
    "    cur.execute(\"INSERT INTO documents (content, embedding) VALUES (%s, %s)\", (text, embedding))\n",
    "    conn.commit()\n",
    "\n",
    "document = [\n",
    "    \"ประเทศไทยมีอากาศร้อนชื้นตลอดทั้งปี\",\n",
    "    \"วันนี้ฉันไปเดินเล่นที่สวนจตุจักรและซื้อของฝาก\",\n",
    "    \"เทคโนโลยีปัญญาประดิษฐ์กำลังเปลี่ยนแปลงโลกอย่างรวดเร็ว\",\n",
    "    \"อาหารไทยที่ฉันชอบมากที่สุดคือต้มยำกุ้ง\",\n",
    "    \"การเรียนรู้ตลอดชีวิตเป็นกุญแจสำคัญสู่ความสำเร็จ\",\n",
    "    \"การออกกำลังกายอย่างสม่ำเสมอช่วยให้สุขภาพดีขึ้น\",\n",
    "    \"หนังเรื่องโปรดของฉันคือ 'พี่มาก...พระโขนง'\",\n",
    "    \"ประเทศไทยมีวัฒนธรรมที่หลากหลายและสวยงาม\",\n",
    "    \"เครื่องบินลำนี้จะออกเดินทางเวลา 9 โมงเช้า\",\n",
    "    \"ภาษาไทยมีความซับซ้อนและไพเราะในเวลาเดียวกัน\"\n",
    "]\n",
    "\n",
    "for doc in document:\n",
    "    add_document(doc)\n",
    "\n",
    "cur = conn.cursor()\n",
    "conn.close()"
   ]
  },
  {
   "cell_type": "code",
   "execution_count": 17,
   "id": "479831ce",
   "metadata": {},
   "outputs": [
    {
     "data": {
      "text/plain": [
       "[('เครื่องบินลำนี้จะออกเดินทางเวลา 9 โมงเช้า', 0.28161695222652017),\n",
       " ('เทคโนโลยีปัญญาประดิษฐ์กำลังเปลี่ยนแปลงโลกอย่างรวดเร็ว', 0.5528228878974915),\n",
       " ('การออกกำลังกายอย่างสม่ำเสมอช่วยให้สุขภาพดีขึ้น', 0.5886340386489599),\n",
       " ('วันนี้ฉันไปเดินเล่นที่สวนจตุจักรและซื้อของฝาก', 0.6022966504096985),\n",
       " ('ภาษาไทยมีความซับซ้อนและไพเราะในเวลาเดียวกัน', 0.6682782869504855)]"
      ]
     },
     "execution_count": 17,
     "metadata": {},
     "output_type": "execute_result"
    }
   ],
   "source": [
    "def query_postgres(query, top_k=5):\n",
    "    query_embedding = embedder.encode(query).tolist()\n",
    "\n",
    "    conn = psycopg2.connect(\n",
    "    dbname=\"mydb\",\n",
    "    user=\"admin\",\n",
    "    password=\"1234\",\n",
    "    host=\"localhost\",\n",
    "    port=\"5433\" # Adjust the port if necessary\n",
    "    )\n",
    "    cur = conn.cursor()\n",
    "\n",
    "    query_embedding_str = \"[\" + \",\".join(map(str, query_embedding)) + \"]\"\n",
    "    \n",
    "    sql_query = \"\"\"\n",
    "    SELECT content, embedding <=> %s::vector AS similarity_score from documents\n",
    "    ORDER BY similarity_score ASC LIMIT %s;\n",
    "    \"\"\"\n",
    "\n",
    "    cur.execute(sql_query, (query_embedding_str, top_k))\n",
    "    results = cur.fetchall()\n",
    "    cur.close()\n",
    "    conn.close()\n",
    "    return results\n",
    "\n",
    "results = query_postgres(\"ตอน 9 โมงเช้าจะมีอะไรเกิดขึ้น\")\n",
    "results\n"
   ]
  },
  {
   "cell_type": "code",
   "execution_count": 18,
   "id": "6553c3c0",
   "metadata": {},
   "outputs": [
    {
     "data": {
      "text/plain": [
       "'เครื่องบินลำนี้จะออกเดินทาง'"
      ]
     },
     "execution_count": 18,
     "metadata": {},
     "output_type": "execute_result"
    }
   ],
   "source": [
    "import ollama\n",
    "\n",
    "def generate_response(query_text):\n",
    "    retrieved_docs = query_postgres(query_text)\n",
    "\n",
    "    context = \"\\n\".join([doc[0] for doc in retrieved_docs])\n",
    "    prompt = f\"Answer the question based on the following context:\\n{context}\\n\\nQuestion: {query_text}\\nAnswer:\"\n",
    "    respone = ollama.chat(model=\"llama3.2\", messages=[\n",
    "        {\"role\": \"system\", \"content\": \"You are a helpful assistant.\"},\n",
    "        {\"role\": \"user\", \"content\": prompt}\n",
    "    ])\n",
    "\n",
    "    return respone['message']['content']\n",
    "\n",
    "generate_response(\"ตอน 9 โมงเช้าจะมีอะไรเกิดขึ้น\")"
   ]
  }
 ],
 "metadata": {
  "kernelspec": {
   "display_name": ".venv",
   "language": "python",
   "name": "python3"
  },
  "language_info": {
   "codemirror_mode": {
    "name": "ipython",
    "version": 3
   },
   "file_extension": ".py",
   "mimetype": "text/x-python",
   "name": "python",
   "nbconvert_exporter": "python",
   "pygments_lexer": "ipython3",
   "version": "3.12.3"
  }
 },
 "nbformat": 4,
 "nbformat_minor": 5
}
